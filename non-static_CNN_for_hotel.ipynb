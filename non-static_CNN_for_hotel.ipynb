{
 "metadata": {
  "name": ""
 },
 "nbformat": 3,
 "nbformat_minor": 0,
 "worksheets": [
  {
   "cells": [
    {
     "cell_type": "code",
     "collapsed": false,
     "input": [
      "# These are all the modules we'll be using later. Make sure you can import them\n",
      "# before proceeding further.\n",
      "from __future__ import print_function\n",
      "import numpy as np\n",
      "import tensorflow as tf\n",
      "import matplotlib.pyplot as plt"
     ],
     "language": "python",
     "metadata": {},
     "outputs": [
      {
       "output_type": "stream",
       "stream": "stderr",
       "text": [
        "/usr/local/lib/python2.7/dist-packages/sklearn/cross_validation.py:44: DeprecationWarning: This module was deprecated in version 0.18 in favor of the model_selection module into which all the refactored classes and functions are moved. Also note that the interface of the new CV iterators are different from that of this module. This module will be removed in 0.20.\n",
        "  \"This module will be removed in 0.20.\", DeprecationWarning)\n"
       ]
      }
     ],
     "prompt_number": 1
    },
    {
     "cell_type": "code",
     "collapsed": false,
     "input": [
      "def readSentence2Array(sentenceFileName,inputMaxLength = 128 , inputMaxLengthFlag = 1):\n",
      "    file = open(sentenceFileName,'r')\n",
      "    lines = file.readlines()\n",
      "    sentenceList = []\n",
      "    for line in lines:\n",
      "        splitList = line.strip().split(' ')\n",
      "        sentenceList.append(splitList)\n",
      "    maxLength = len(sentenceList[0])\n",
      "    for row in sentenceList:\n",
      "        if maxLength <= len(row):\n",
      "            maxLength = len(row)\n",
      "    if inputMaxLengthFlag == 0: \n",
      "        for row in sentenceList:\n",
      "            for i in range(len(row),maxLength):\n",
      "                row.append('0')\n",
      "                \n",
      "    elif inputMaxLengthFlag == 1:\n",
      "        temp_list = []\n",
      "        for row in sentenceList:\n",
      "            if len(row) < inputMaxLength:\n",
      "                for i in range(len(row),inputMaxLength):\n",
      "                    row.append('0')\n",
      "                temp_list.append(row)\n",
      "            elif len(row) >= inputMaxLength:\n",
      "                temp_list.append(row[0:inputMaxLength])\n",
      "        sentenceList = temp_list\n",
      "        \n",
      "    numSentenceList = strList2numList2D(sentenceList)\n",
      "    print (np.array(numSentenceList))\n",
      "    return np.array(numSentenceList)\n",
      "\n",
      "def strList2numList2D(strlist):\n",
      "    copyList = []\n",
      "    for sentence in strlist:\n",
      "        temp_list = []\n",
      "        for number in sentence:\n",
      "            temp_list.append(int(number))\n",
      "        copyList.append(temp_list)\n",
      "    return copyList\n",
      "\n",
      "def readLabelFile2Array(LabelFileName):\n",
      "    file = open(LabelFileName,'r')\n",
      "    lines = file.readlines()\n",
      "    labelList = []\n",
      "    for line in lines:\n",
      "        splitList = line.strip()\n",
      "        labelList.append(splitList)\n",
      "    return np.array(labelList)\n",
      "\n",
      "\n",
      "savedArrayFile = r'/media/huxi/\u65b0\u52a0\u53771/NLP_exLab/pythonCode/CNN/data/hotel_annotatedData_utf8/non-static/embeddingVocabulary.npy'\n",
      "wordEmbedding = np.load(savedArrayFile)\n",
      "\n",
      "lengthEmbedding = np.shape(wordEmbedding)[1]#\u8bcd\u5411\u91cf\u957f\u5ea6\n",
      "lengthVocabulary = np.shape(wordEmbedding)[0]#\u8bcd\u5178\u957f\u5ea6\n",
      "\n",
      "sentenceFileName = r'/media/huxi/\u65b0\u52a0\u53771/NLP_exLab/pythonCode/CNN/data/hotel_annotatedData_utf8/non-static/sentence_index.txt'\n",
      "sentenceArray = readSentence2Array(sentenceFileName)\n",
      "num_array = np.shape(sentenceArray)[0]#\u53e5\u5b50\u6761\u6570\n",
      "sentenceLength = np.shape(sentenceArray)[1]#\u53e5\u5b50\u957f\u5ea6\n",
      "print (sentenceLength)\n",
      "\n",
      "train_dataset = sentenceArray[0:int(num_array*0.8)]\n",
      "#train_labels = save['train_labels']\n",
      "valid_dataset = sentenceArray[int(num_array*0.8):int(num_array*0.8)+int(num_array*0.1)]\n",
      "#valid_labels = save['valid_labels']\n",
      "test_dataset = sentenceArray[int(num_array*0.8)+int(num_array*0.1):]\n",
      "#test_labels = save['test_labels']\n",
      "\n",
      "LabelFileName =  r'/media/huxi/\u65b0\u52a0\u53771/NLP_exLab/pythonCode/CNN/data/hotel_annotatedData_utf8/shuffData_result/shuffledLabel.txt'\n",
      "labels = readLabelFile2Array(LabelFileName)\n",
      "\n",
      "train_labels = labels[0:int(num_array*0.8)]\n",
      "valid_labels = labels[int(num_array*0.8):int(num_array*0.8)+int(num_array*0.1)]\n",
      "test_labels = labels[int(num_array*0.8)+int(num_array*0.1):]\n",
      "#del save  # hint to help gc free up memory\n",
      "#print (train_labels)\n",
      "print('Training set', train_dataset.shape, train_labels.shape)\n",
      "print('Validation set', valid_dataset.shape, valid_labels.shape)\n",
      "print('Test set', test_dataset.shape, test_labels.shape)"
     ],
     "language": "python",
     "metadata": {},
     "outputs": [
      {
       "output_type": "stream",
       "stream": "stdout",
       "text": [
        "[[ 9263  9508  2557 ..., 11645 12949  1690]\n",
        " [ 9946   306 11544 ...,     0     0     0]\n",
        " [ 4274  5417  8530 ...,     0     0     0]\n",
        " ..., \n",
        " [ 4274  8764  5013 ...,     0     0     0]\n",
        " [ 5417 10027  6540 ...,     0     0     0]\n",
        " [ 3720  3955 10958 ...,     0     0     0]]\n",
        "128\n",
        "Training set (3804, 128) (3804,)\n",
        "Validation set (475, 128) (475,)\n",
        "Test set (476, 128) (476,)\n"
       ]
      }
     ],
     "prompt_number": 2
    },
    {
     "cell_type": "code",
     "collapsed": false,
     "input": [
      "num_labels = 2\n",
      "num_channels = 1\n",
      "\n",
      "\n",
      "def reformat(dataset,labels):\n",
      "  label_T  = []\n",
      "  #print (labels)\n",
      "  dataset = dataset.reshape((dataset.shape[0], dataset.shape[1], num_channels))\n",
      "  for label in labels:\n",
      "        #print (type(label))\n",
      "        if label == '0':\n",
      "            label_T.append([1,0])\n",
      "        elif label == '1':\n",
      "            label_T.append([0,1])\n",
      "  newLabels = np.array(label_T)\n",
      "  return dataset,newLabels\n",
      "train_dataset, train_labels = reformat(train_dataset, train_labels)\n",
      "valid_dataset, valid_labels = reformat(valid_dataset, valid_labels)\n",
      "test_dataset, test_labels = reformat(test_dataset, test_labels)\n",
      "print('Training set', train_dataset.shape, train_labels.shape)\n",
      "print('Validation set', valid_dataset.shape, valid_labels.shape)\n",
      "print('Test set', test_dataset.shape, test_labels.shape)"
     ],
     "language": "python",
     "metadata": {},
     "outputs": [
      {
       "output_type": "stream",
       "stream": "stdout",
       "text": [
        "Training set (3804, 128, 1) (3804, 2)\n",
        "Validation set (475, 128, 1) (475, 2)\n",
        "Test set (476, 128, 1) (476, 2)\n"
       ]
      }
     ],
     "prompt_number": 3
    },
    {
     "cell_type": "code",
     "collapsed": false,
     "input": [
      "print (train_labels)"
     ],
     "language": "python",
     "metadata": {},
     "outputs": [
      {
       "output_type": "stream",
       "stream": "stdout",
       "text": [
        "[[0 1]\n",
        " [1 0]\n",
        " [0 1]\n",
        " ..., \n",
        " [1 0]\n",
        " [0 1]\n",
        " [0 1]]\n"
       ]
      }
     ],
     "prompt_number": 4
    },
    {
     "cell_type": "code",
     "collapsed": false,
     "input": [
      "def accuracy(predictions, labels):\n",
      "  return (100.0 * np.sum(np.argmax(predictions, 1) == np.argmax(labels, 1))\n",
      "          / predictions.shape[0])"
     ],
     "language": "python",
     "metadata": {},
     "outputs": [],
     "prompt_number": 5
    },
    {
     "cell_type": "code",
     "collapsed": false,
     "input": [
      "#\u8fd9\u91cc\u8fd8\u6709\u95ee\u9898 \u6162\u6162\u6539\u5427\n",
      "batch_size = 128\n",
      "filter_sizeList = [2,4,8,16,32]\n",
      "embedding_size = lengthEmbedding\n",
      "vocabulary_size = lengthVocabulary\n",
      "depth = 128\n",
      "num_hidden = 32\n",
      "num_hidden2 = 16\n",
      "beta = 0.0005\n",
      "keep_drop = 0.5\n",
      "num_steps = 3001\n",
      "sequence_length = sentenceLength\n",
      "num_filters_total = depth * len(filter_sizeList)\n",
      "lr = 0.005\n",
      "\n",
      "graph = tf.Graph()\n",
      "\n",
      "with graph.as_default():\n",
      "\n",
      "  # Input data.\n",
      "  tf_train_dataset = tf.placeholder(\n",
      "    tf.int64, shape=(batch_size,sequence_length,1))\n",
      "  tf_train_labels = tf.placeholder(tf.float32, shape=(batch_size, num_labels))\n",
      "  tf_valid_dataset = tf.constant(valid_dataset)\n",
      "  tf_test_dataset = tf.constant(test_dataset)\n",
      "  #tf_pretrained_embedding = tf.placeholder(tf.float32, shape=(vocabulary_size,embedding_size))\n",
      "  #Variable\n",
      "  embeddings = tf.Variable(wordEmbedding)\n",
      "  #embeddings.assign(tf_pretrained_embedding)\n",
      "\n",
      "  layer1_weightsList = []\n",
      "  layer1_biasesList = []\n",
      "  for i in range(0,len(filter_sizeList)):\n",
      "      layer1_weightsList.append(tf.Variable(tf.truncated_normal([filter_sizeList[i], embedding_size, num_channels, depth], stddev=0.1)))\n",
      "      layer1_biasesList.append(tf.Variable(tf.zeros([depth])))\n",
      "        \n",
      "  #layer2_weights = tf.Variable(tf.truncated_normal([num_filters_total, num_hidden], stddev=0.1))\n",
      "  #layer2_biases = tf.Variable(tf.constant(1.0, shape=[num_hidden]))      \n",
      "        \n",
      "  layer3_weights = tf.Variable(tf.truncated_normal([num_filters_total, num_labels], stddev=0.1))\n",
      "  layer3_biases = tf.Variable(tf.constant(1.0, shape=[num_labels]))\n",
      "        \n",
      "  # Model.\n",
      "  def model(data,dropout_flag,filter_sizeList):\n",
      "            \n",
      "    embed = tf.nn.embedding_lookup(embeddings,data[:,:,0])\n",
      "    \n",
      "    newEmbed = tf.expand_dims(embed , -1)\n",
      "    \n",
      "    allMaxPoolingLayer = []\n",
      "    l2_loss_term = tf.constant(0.0)\n",
      "    i = 0\n",
      "    for filter_size in filter_sizeList:\n",
      "        conv = tf.nn.conv2d( newEmbed, layer1_weightsList[i], [1, 1 , 1, 1], padding='VALID',use_cudnn_on_gpu=True)\n",
      "        hidden = tf.nn.relu(conv + layer1_biasesList[i])\n",
      "        if dropout_flag == 1:\n",
      "            hidden = tf.nn.dropout(hidden,keep_drop)\n",
      "        pooling = tf.nn.max_pool(hidden, [ 1,sequence_length - filter_size + 1,1,1 ] , [1, 1,1, 1], padding='VALID')\n",
      "        allMaxPoolingLayer.append(pooling)\n",
      "        \n",
      "        l2_loss_term = l2_loss_term + tf.nn.l2_loss(layer1_weightsList[i]) + tf.nn.l2_loss(layer1_biasesList[i])\n",
      "        i = i+1\n",
      "    allMaxPoolingLayer_T = tf.concat(3,allMaxPoolingLayer)\n",
      "    \n",
      "    reshape = tf.reshape(allMaxPoolingLayer_T, [ -1, num_filters_total ])\n",
      "    if dropout_flag == 1:\n",
      "        reshape = tf.nn.dropout(reshape,keep_drop)\n",
      "\n",
      "    scores = tf.matmul(reshape, layer3_weights) + layer3_biases\n",
      "    l2_loss_term = l2_loss_term + tf.nn.l2_loss(layer3_weights) + tf.nn.l2_loss(layer3_biases)\n",
      "\n",
      "    return scores,l2_loss_term\n",
      "  \n",
      "  # Training computation.\n",
      "  #embedding.assign(tf_train_dataset)\n",
      "  logits,l2_loss_term = model(tf_train_dataset,1,filter_sizeList)\n",
      "  loss = tf.reduce_mean(\n",
      "    tf.nn.softmax_cross_entropy_with_logits(logits, tf_train_labels)) + beta* ( l2_loss_term )\n",
      "    \n",
      "  # Optimizer.\n",
      "  global_step = tf.Variable(0)  # count the number of steps taken.\n",
      "  learning_rate = tf.train.exponential_decay(lr, global_step, num_steps, 0.96)\n",
      "  optimizer = tf.train.GradientDescentOptimizer(learning_rate).minimize(loss, global_step=global_step)\n",
      "  \n",
      "  # Predictions for the training, validation, and test data.\n",
      "  train_prediction = tf.nn.softmax(logits)\n",
      "  valid_prediction = tf.nn.softmax(model(tf_valid_dataset,0,filter_sizeList)[0])\n",
      "  test_prediction = tf.nn.softmax(model(tf_test_dataset,0,filter_sizeList)[0])"
     ],
     "language": "python",
     "metadata": {},
     "outputs": [],
     "prompt_number": 6
    },
    {
     "cell_type": "code",
     "collapsed": false,
     "input": [
      "train_plot_x = []\n",
      "train_plot_y = []\n",
      "valid_plot_y = []\n",
      "\n",
      "\n",
      "with tf.Session(graph=graph) as session:\n",
      "  tf.initialize_all_variables().run()\n",
      "  print('Initialized')\n",
      "  for step in range(num_steps):\n",
      "    offset = (step * batch_size) % (train_labels.shape[0] - batch_size)\n",
      "    batch_data = train_dataset[offset:(offset + batch_size), :, :]\n",
      "    batch_labels = train_labels[offset:(offset + batch_size), :]\n",
      "    feed_dict = {tf_train_dataset : batch_data, tf_train_labels : batch_labels}\n",
      "    _, l, predictions = session.run(\n",
      "      [optimizer, loss, train_prediction], feed_dict=feed_dict)\n",
      "    if (step % 50 == 0):\n",
      "      print('Minibatch loss at step %d: %f' % (step, l))\n",
      "      print('Minibatch accuracy: %.1f%%' % accuracy(predictions, batch_labels))\n",
      "      train_plot_x.append(step)\n",
      "      train_plot_y.append(accuracy(predictions, batch_labels))\n",
      "        \n",
      "      print('Validation accuracy: %.1f%%' % accuracy(\n",
      "        valid_prediction.eval(), valid_labels))\n",
      "      valid_plot_y.append(accuracy(valid_prediction.eval(), valid_labels))\n",
      "        \n",
      "  print('Test accuracy: %.1f%%' % accuracy(test_prediction.eval(), test_labels))\n",
      "\n",
      "  plt.plot(train_plot_x, train_plot_y,'b-',label = \"train accuracy\")\n",
      "  plt.plot(train_plot_x, valid_plot_y,'r-',label = \"valid accuracy\")\n",
      "  plt.xlabel(\"step\")\n",
      "  plt.ylabel(\"accuracy\")\n",
      "  plt.show()\n",
      "  print(test_prediction.eval())\n",
      "  print(test_labels)\n",
      "#\u770b\u6837\u5b50\u662f\u8fc7\u62df\u5408\u4e86"
     ],
     "language": "python",
     "metadata": {},
     "outputs": [
      {
       "output_type": "stream",
       "stream": "stdout",
       "text": [
        "Initialized\n",
        "Minibatch loss at step 0: 44.789719"
       ]
      },
      {
       "output_type": "stream",
       "stream": "stdout",
       "text": [
        "\n",
        "Minibatch accuracy: 46.9%\n",
        "Validation accuracy: 45.9%"
       ]
      },
      {
       "output_type": "stream",
       "stream": "stdout",
       "text": [
        "\n",
        "Minibatch loss at step 50: 67.765144"
       ]
      },
      {
       "output_type": "stream",
       "stream": "stdout",
       "text": [
        "\n",
        "Minibatch accuracy: 48.4%\n",
        "Validation accuracy: 45.9%"
       ]
      },
      {
       "output_type": "stream",
       "stream": "stdout",
       "text": [
        "\n",
        "Minibatch loss at step 100: 21.874315"
       ]
      },
      {
       "output_type": "stream",
       "stream": "stdout",
       "text": [
        "\n",
        "Minibatch accuracy: 55.5%\n",
        "Validation accuracy: 48.4%"
       ]
      },
      {
       "output_type": "stream",
       "stream": "stdout",
       "text": [
        "\n",
        "Minibatch loss at step 150: 14.163753"
       ]
      },
      {
       "output_type": "stream",
       "stream": "stdout",
       "text": [
        "\n",
        "Minibatch accuracy: 60.9%\n",
        "Validation accuracy: 47.4%"
       ]
      },
      {
       "output_type": "stream",
       "stream": "stdout",
       "text": [
        "\n",
        "Minibatch loss at step 200: 6.790654"
       ]
      },
      {
       "output_type": "stream",
       "stream": "stdout",
       "text": [
        "\n",
        "Minibatch accuracy: 64.1%\n",
        "Validation accuracy: 53.5%"
       ]
      },
      {
       "output_type": "stream",
       "stream": "stdout",
       "text": [
        "\n",
        "Minibatch loss at step 250: 7.062396"
       ]
      },
      {
       "output_type": "stream",
       "stream": "stdout",
       "text": [
        "\n",
        "Minibatch accuracy: 64.8%\n",
        "Validation accuracy: 66.5%"
       ]
      },
      {
       "output_type": "stream",
       "stream": "stdout",
       "text": [
        "\n",
        "Minibatch loss at step 300: 5.762433"
       ]
      },
      {
       "output_type": "stream",
       "stream": "stdout",
       "text": [
        "\n",
        "Minibatch accuracy: 67.2%\n",
        "Validation accuracy: 64.4%"
       ]
      },
      {
       "output_type": "stream",
       "stream": "stdout",
       "text": [
        "\n",
        "Minibatch loss at step 350: 2.682696"
       ]
      },
      {
       "output_type": "stream",
       "stream": "stdout",
       "text": [
        "\n",
        "Minibatch accuracy: 74.2%\n",
        "Validation accuracy: 79.6%"
       ]
      },
      {
       "output_type": "stream",
       "stream": "stdout",
       "text": [
        "\n",
        "Minibatch loss at step 400: 2.663620"
       ]
      },
      {
       "output_type": "stream",
       "stream": "stdout",
       "text": [
        "\n",
        "Minibatch accuracy: 78.9%\n",
        "Validation accuracy: 69.7%"
       ]
      },
      {
       "output_type": "stream",
       "stream": "stdout",
       "text": [
        "\n",
        "Minibatch loss at step 450: 4.513555"
       ]
      },
      {
       "output_type": "stream",
       "stream": "stdout",
       "text": [
        "\n",
        "Minibatch accuracy: 65.6%\n",
        "Validation accuracy: 72.8%"
       ]
      },
      {
       "output_type": "stream",
       "stream": "stdout",
       "text": [
        "\n",
        "Minibatch loss at step 500: 5.891048"
       ]
      },
      {
       "output_type": "stream",
       "stream": "stdout",
       "text": [
        "\n",
        "Minibatch accuracy: 60.9%\n",
        "Validation accuracy: 66.9%"
       ]
      },
      {
       "output_type": "stream",
       "stream": "stdout",
       "text": [
        "\n",
        "Minibatch loss at step 550: 3.953787"
       ]
      },
      {
       "output_type": "stream",
       "stream": "stdout",
       "text": [
        "\n",
        "Minibatch accuracy: 70.3%\n",
        "Validation accuracy: 66.1%"
       ]
      },
      {
       "output_type": "stream",
       "stream": "stdout",
       "text": [
        "\n",
        "Minibatch loss at step 600: 2.433909"
       ]
      },
      {
       "output_type": "stream",
       "stream": "stdout",
       "text": [
        "\n",
        "Minibatch accuracy: 75.0%\n",
        "Validation accuracy: 82.1%"
       ]
      },
      {
       "output_type": "stream",
       "stream": "stdout",
       "text": [
        "\n",
        "Minibatch loss at step 650: 2.093053"
       ]
      },
      {
       "output_type": "stream",
       "stream": "stdout",
       "text": [
        "\n",
        "Minibatch accuracy: 78.9%\n",
        "Validation accuracy: 65.9%"
       ]
      },
      {
       "output_type": "stream",
       "stream": "stdout",
       "text": [
        "\n",
        "Minibatch loss at step 700: 2.046062"
       ]
      },
      {
       "output_type": "stream",
       "stream": "stdout",
       "text": [
        "\n",
        "Minibatch accuracy: 75.8%\n",
        "Validation accuracy: 81.5%"
       ]
      },
      {
       "output_type": "stream",
       "stream": "stdout",
       "text": [
        "\n",
        "Minibatch loss at step 750: 2.588243"
       ]
      },
      {
       "output_type": "stream",
       "stream": "stdout",
       "text": [
        "\n",
        "Minibatch accuracy: 71.9%\n",
        "Validation accuracy: 75.8%"
       ]
      },
      {
       "output_type": "stream",
       "stream": "stdout",
       "text": [
        "\n",
        "Minibatch loss at step 800: 1.931069"
       ]
      },
      {
       "output_type": "stream",
       "stream": "stdout",
       "text": [
        "\n",
        "Minibatch accuracy: 78.9%\n",
        "Validation accuracy: 77.5%"
       ]
      },
      {
       "output_type": "stream",
       "stream": "stdout",
       "text": [
        "\n",
        "Minibatch loss at step 850: 3.385487"
       ]
      },
      {
       "output_type": "stream",
       "stream": "stdout",
       "text": [
        "\n",
        "Minibatch accuracy: 69.5%\n",
        "Validation accuracy: 63.4%"
       ]
      },
      {
       "output_type": "stream",
       "stream": "stdout",
       "text": [
        "\n",
        "Minibatch loss at step 900: 2.070026"
       ]
      },
      {
       "output_type": "stream",
       "stream": "stdout",
       "text": [
        "\n",
        "Minibatch accuracy: 75.8%\n",
        "Validation accuracy: 78.5%"
       ]
      },
      {
       "output_type": "stream",
       "stream": "stdout",
       "text": [
        "\n",
        "Minibatch loss at step 950: 2.598559"
       ]
      },
      {
       "output_type": "stream",
       "stream": "stdout",
       "text": [
        "\n",
        "Minibatch accuracy: 74.2%\n",
        "Validation accuracy: 75.6%"
       ]
      },
      {
       "output_type": "stream",
       "stream": "stdout",
       "text": [
        "\n",
        "Minibatch loss at step 1000: 1.227816"
       ]
      },
      {
       "output_type": "stream",
       "stream": "stdout",
       "text": [
        "\n",
        "Minibatch accuracy: 88.3%\n",
        "Validation accuracy: 80.2%"
       ]
      },
      {
       "output_type": "stream",
       "stream": "stdout",
       "text": [
        "\n",
        "Minibatch loss at step 1050: 1.629211"
       ]
      },
      {
       "output_type": "stream",
       "stream": "stdout",
       "text": [
        "\n",
        "Minibatch accuracy: 78.9%\n",
        "Validation accuracy: 82.7%"
       ]
      },
      {
       "output_type": "stream",
       "stream": "stdout",
       "text": [
        "\n",
        "Minibatch loss at step 1100: 1.349078"
       ]
      },
      {
       "output_type": "stream",
       "stream": "stdout",
       "text": [
        "\n",
        "Minibatch accuracy: 82.8%\n",
        "Validation accuracy: 83.4%"
       ]
      },
      {
       "output_type": "stream",
       "stream": "stdout",
       "text": [
        "\n",
        "Minibatch loss at step 1150: 1.636204"
       ]
      },
      {
       "output_type": "stream",
       "stream": "stdout",
       "text": [
        "\n",
        "Minibatch accuracy: 85.2%\n",
        "Validation accuracy: 81.9%"
       ]
      },
      {
       "output_type": "stream",
       "stream": "stdout",
       "text": [
        "\n",
        "Minibatch loss at step 1200: 3.173276"
       ]
      },
      {
       "output_type": "stream",
       "stream": "stdout",
       "text": [
        "\n",
        "Minibatch accuracy: 57.0%\n",
        "Validation accuracy: 67.4%"
       ]
      },
      {
       "output_type": "stream",
       "stream": "stdout",
       "text": [
        "\n",
        "Minibatch loss at step 1250: 1.442687"
       ]
      },
      {
       "output_type": "stream",
       "stream": "stdout",
       "text": [
        "\n",
        "Minibatch accuracy: 80.5%\n",
        "Validation accuracy: 83.4%"
       ]
      },
      {
       "output_type": "stream",
       "stream": "stdout",
       "text": [
        "\n",
        "Minibatch loss at step 1300: 1.257827"
       ]
      },
      {
       "output_type": "stream",
       "stream": "stdout",
       "text": [
        "\n",
        "Minibatch accuracy: 81.2%\n",
        "Validation accuracy: 83.2%"
       ]
      },
      {
       "output_type": "stream",
       "stream": "stdout",
       "text": [
        "\n",
        "Minibatch loss at step 1350: 1.580552"
       ]
      },
      {
       "output_type": "stream",
       "stream": "stdout",
       "text": [
        "\n",
        "Minibatch accuracy: 75.0%\n",
        "Validation accuracy: 80.0%"
       ]
      },
      {
       "output_type": "stream",
       "stream": "stdout",
       "text": [
        "\n",
        "Minibatch loss at step 1400: 2.394731"
       ]
      },
      {
       "output_type": "stream",
       "stream": "stdout",
       "text": [
        "\n",
        "Minibatch accuracy: 62.5%\n",
        "Validation accuracy: 56.0%"
       ]
      },
      {
       "output_type": "stream",
       "stream": "stdout",
       "text": [
        "\n",
        "Minibatch loss at step 1450: 1.313527"
       ]
      },
      {
       "output_type": "stream",
       "stream": "stdout",
       "text": [
        "\n",
        "Minibatch accuracy: 82.8%\n",
        "Validation accuracy: 81.9%"
       ]
      },
      {
       "output_type": "stream",
       "stream": "stdout",
       "text": [
        "\n",
        "Minibatch loss at step 1500: 2.341960"
       ]
      },
      {
       "output_type": "stream",
       "stream": "stdout",
       "text": [
        "\n",
        "Minibatch accuracy: 70.3%\n",
        "Validation accuracy: 70.5%"
       ]
      },
      {
       "output_type": "stream",
       "stream": "stdout",
       "text": [
        "\n",
        "Minibatch loss at step 1550: 1.642058"
       ]
      },
      {
       "output_type": "stream",
       "stream": "stdout",
       "text": [
        "\n",
        "Minibatch accuracy: 80.5%\n",
        "Validation accuracy: 76.0%"
       ]
      },
      {
       "output_type": "stream",
       "stream": "stdout",
       "text": [
        "\n",
        "Minibatch loss at step 1600: 1.404035"
       ]
      },
      {
       "output_type": "stream",
       "stream": "stdout",
       "text": [
        "\n",
        "Minibatch accuracy: 84.4%\n",
        "Validation accuracy: 81.7%"
       ]
      },
      {
       "output_type": "stream",
       "stream": "stdout",
       "text": [
        "\n",
        "Minibatch loss at step 1650: 1.274460"
       ]
      },
      {
       "output_type": "stream",
       "stream": "stdout",
       "text": [
        "\n",
        "Minibatch accuracy: 82.0%\n",
        "Validation accuracy: 81.9%"
       ]
      },
      {
       "output_type": "stream",
       "stream": "stdout",
       "text": [
        "\n",
        "Minibatch loss at step 1700: 1.277948"
       ]
      },
      {
       "output_type": "stream",
       "stream": "stdout",
       "text": [
        "\n",
        "Minibatch accuracy: 82.8%\n",
        "Validation accuracy: 82.7%"
       ]
      },
      {
       "output_type": "stream",
       "stream": "stdout",
       "text": [
        "\n",
        "Minibatch loss at step 1750: 1.431494"
       ]
      },
      {
       "output_type": "stream",
       "stream": "stdout",
       "text": [
        "\n",
        "Minibatch accuracy: 85.2%\n",
        "Validation accuracy: 75.8%"
       ]
      },
      {
       "output_type": "stream",
       "stream": "stdout",
       "text": [
        "\n",
        "Minibatch loss at step 1800: 1.698015"
       ]
      },
      {
       "output_type": "stream",
       "stream": "stdout",
       "text": [
        "\n",
        "Minibatch accuracy: 77.3%\n",
        "Validation accuracy: 70.3%"
       ]
      },
      {
       "output_type": "stream",
       "stream": "stdout",
       "text": [
        "\n",
        "Minibatch loss at step 1850: 1.974030"
       ]
      },
      {
       "output_type": "stream",
       "stream": "stdout",
       "text": [
        "\n",
        "Minibatch accuracy: 71.1%\n",
        "Validation accuracy: 69.9%"
       ]
      },
      {
       "output_type": "stream",
       "stream": "stdout",
       "text": [
        "\n",
        "Minibatch loss at step 1900: 1.435235"
       ]
      },
      {
       "output_type": "stream",
       "stream": "stdout",
       "text": [
        "\n",
        "Minibatch accuracy: 78.9%\n",
        "Validation accuracy: 80.8%"
       ]
      },
      {
       "output_type": "stream",
       "stream": "stdout",
       "text": [
        "\n",
        "Minibatch loss at step 1950: 1.515108"
       ]
      },
      {
       "output_type": "stream",
       "stream": "stdout",
       "text": [
        "\n",
        "Minibatch accuracy: 77.3%\n",
        "Validation accuracy: 81.7%"
       ]
      },
      {
       "output_type": "stream",
       "stream": "stdout",
       "text": [
        "\n",
        "Minibatch loss at step 2000: 1.250318"
       ]
      },
      {
       "output_type": "stream",
       "stream": "stdout",
       "text": [
        "\n",
        "Minibatch accuracy: 82.0%\n",
        "Validation accuracy: 82.5%"
       ]
      },
      {
       "output_type": "stream",
       "stream": "stdout",
       "text": [
        "\n",
        "Minibatch loss at step 2050: 1.273676"
       ]
      },
      {
       "output_type": "stream",
       "stream": "stdout",
       "text": [
        "\n",
        "Minibatch accuracy: 85.2%\n",
        "Validation accuracy: 82.5%"
       ]
      },
      {
       "output_type": "stream",
       "stream": "stdout",
       "text": [
        "\n",
        "Minibatch loss at step 2100: 1.386957"
       ]
      },
      {
       "output_type": "stream",
       "stream": "stdout",
       "text": [
        "\n",
        "Minibatch accuracy: 80.5%\n",
        "Validation accuracy: 83.8%"
       ]
      },
      {
       "output_type": "stream",
       "stream": "stdout",
       "text": [
        "\n",
        "Minibatch loss at step 2150: 1.462120"
       ]
      },
      {
       "output_type": "stream",
       "stream": "stdout",
       "text": [
        "\n",
        "Minibatch accuracy: 82.8%\n",
        "Validation accuracy: 75.6%"
       ]
      },
      {
       "output_type": "stream",
       "stream": "stdout",
       "text": [
        "\n",
        "Minibatch loss at step 2200: 1.380793"
       ]
      },
      {
       "output_type": "stream",
       "stream": "stdout",
       "text": [
        "\n",
        "Minibatch accuracy: 83.6%\n",
        "Validation accuracy: 75.8%"
       ]
      },
      {
       "output_type": "stream",
       "stream": "stdout",
       "text": [
        "\n",
        "Minibatch loss at step 2250: 1.179147"
       ]
      },
      {
       "output_type": "stream",
       "stream": "stdout",
       "text": [
        "\n",
        "Minibatch accuracy: 86.7%\n",
        "Validation accuracy: 80.6%"
       ]
      },
      {
       "output_type": "stream",
       "stream": "stdout",
       "text": [
        "\n",
        "Minibatch loss at step 2300: 1.178545"
       ]
      },
      {
       "output_type": "stream",
       "stream": "stdout",
       "text": [
        "\n",
        "Minibatch accuracy: 89.8%\n",
        "Validation accuracy: 82.1%"
       ]
      },
      {
       "output_type": "stream",
       "stream": "stdout",
       "text": [
        "\n",
        "Minibatch loss at step 2350: 1.132001"
       ]
      },
      {
       "output_type": "stream",
       "stream": "stdout",
       "text": [
        "\n",
        "Minibatch accuracy: 90.6%\n",
        "Validation accuracy: 81.7%"
       ]
      },
      {
       "output_type": "stream",
       "stream": "stdout",
       "text": [
        "\n",
        "Minibatch loss at step 2400: 1.335130"
       ]
      },
      {
       "output_type": "stream",
       "stream": "stdout",
       "text": [
        "\n",
        "Minibatch accuracy: 82.8%\n",
        "Validation accuracy: 83.2%"
       ]
      },
      {
       "output_type": "stream",
       "stream": "stdout",
       "text": [
        "\n",
        "Minibatch loss at step 2450: 1.264672"
       ]
      },
      {
       "output_type": "stream",
       "stream": "stdout",
       "text": [
        "\n",
        "Minibatch accuracy: 85.2%\n",
        "Validation accuracy: 85.1%"
       ]
      },
      {
       "output_type": "stream",
       "stream": "stdout",
       "text": [
        "\n",
        "Minibatch loss at step 2500: 1.227329"
       ]
      },
      {
       "output_type": "stream",
       "stream": "stdout",
       "text": [
        "\n",
        "Minibatch accuracy: 88.3%\n",
        "Validation accuracy: 82.1%"
       ]
      },
      {
       "output_type": "stream",
       "stream": "stdout",
       "text": [
        "\n",
        "Minibatch loss at step 2550: 1.409658"
       ]
      },
      {
       "output_type": "stream",
       "stream": "stdout",
       "text": [
        "\n",
        "Minibatch accuracy: 71.9%\n",
        "Validation accuracy: 80.2%"
       ]
      },
      {
       "output_type": "stream",
       "stream": "stdout",
       "text": [
        "\n",
        "Minibatch loss at step 2600: 1.190732"
       ]
      },
      {
       "output_type": "stream",
       "stream": "stdout",
       "text": [
        "\n",
        "Minibatch accuracy: 88.3%\n",
        "Validation accuracy: 84.0%"
       ]
      },
      {
       "output_type": "stream",
       "stream": "stdout",
       "text": [
        "\n",
        "Minibatch loss at step 2650: 1.109333"
       ]
      },
      {
       "output_type": "stream",
       "stream": "stdout",
       "text": [
        "\n",
        "Minibatch accuracy: 89.8%\n",
        "Validation accuracy: 84.6%"
       ]
      },
      {
       "output_type": "stream",
       "stream": "stdout",
       "text": [
        "\n",
        "Minibatch loss at step 2700: 1.258379"
       ]
      },
      {
       "output_type": "stream",
       "stream": "stdout",
       "text": [
        "\n",
        "Minibatch accuracy: 85.9%\n",
        "Validation accuracy: 80.6%"
       ]
      },
      {
       "output_type": "stream",
       "stream": "stdout",
       "text": [
        "\n",
        "Minibatch loss at step 2750: 1.151477"
       ]
      },
      {
       "output_type": "stream",
       "stream": "stdout",
       "text": [
        "\n",
        "Minibatch accuracy: 91.4%\n",
        "Validation accuracy: 82.9%"
       ]
      },
      {
       "output_type": "stream",
       "stream": "stdout",
       "text": [
        "\n",
        "Minibatch loss at step 2800: 1.255867"
       ]
      },
      {
       "output_type": "stream",
       "stream": "stdout",
       "text": [
        "\n",
        "Minibatch accuracy: 83.6%\n",
        "Validation accuracy: 83.4%"
       ]
      },
      {
       "output_type": "stream",
       "stream": "stdout",
       "text": [
        "\n",
        "Minibatch loss at step 2850: 1.442469"
       ]
      },
      {
       "output_type": "stream",
       "stream": "stdout",
       "text": [
        "\n",
        "Minibatch accuracy: 82.8%\n",
        "Validation accuracy: 78.1%"
       ]
      },
      {
       "output_type": "stream",
       "stream": "stdout",
       "text": [
        "\n",
        "Minibatch loss at step 2900: 1.227957"
       ]
      },
      {
       "output_type": "stream",
       "stream": "stdout",
       "text": [
        "\n",
        "Minibatch accuracy: 85.9%\n",
        "Validation accuracy: 82.7%"
       ]
      },
      {
       "output_type": "stream",
       "stream": "stdout",
       "text": [
        "\n",
        "Minibatch loss at step 2950: 1.267733"
       ]
      },
      {
       "output_type": "stream",
       "stream": "stdout",
       "text": [
        "\n",
        "Minibatch accuracy: 85.9%\n",
        "Validation accuracy: 82.3%"
       ]
      },
      {
       "output_type": "stream",
       "stream": "stdout",
       "text": [
        "\n",
        "Minibatch loss at step 3000: 1.141891"
       ]
      },
      {
       "output_type": "stream",
       "stream": "stdout",
       "text": [
        "\n",
        "Minibatch accuracy: 90.6%\n",
        "Validation accuracy: 84.0%"
       ]
      },
      {
       "output_type": "stream",
       "stream": "stdout",
       "text": [
        "\n",
        "Test accuracy: 83.0%"
       ]
      },
      {
       "output_type": "stream",
       "stream": "stdout",
       "text": [
        "\n",
        "[[  7.35152047e-03   9.92648423e-01]\n",
        " [  6.23907387e-01   3.76092583e-01]\n",
        " [  6.59951121e-02   9.34004903e-01]\n",
        " [  9.83560681e-01   1.64393689e-02]\n",
        " [  6.42975867e-01   3.57024103e-01]\n",
        " [  9.77510750e-01   2.24892274e-02]\n",
        " [  9.99863625e-01   1.36360351e-04]\n",
        " [  9.92665160e-03   9.90073323e-01]\n",
        " [  8.37182030e-02   9.16281879e-01]\n",
        " [  6.24369323e-01   3.75630647e-01]\n",
        " [  1.53529271e-01   8.46470714e-01]\n",
        " [  6.73372000e-02   9.32662785e-01]\n",
        " [  6.34066343e-01   3.65933627e-01]\n",
        " [  7.52157688e-01   2.47842282e-01]\n",
        " [  2.29535028e-01   7.70464957e-01]\n",
        " [  8.76448691e-01   1.23551257e-01]\n",
        " [  1.62594169e-01   8.37405801e-01]\n",
        " [  9.93924320e-01   6.07572217e-03]\n",
        " [  9.65169907e-01   3.48301157e-02]\n",
        " [  9.58143234e-01   4.18567583e-02]\n",
        " [  8.97353828e-01   1.02646202e-01]\n",
        " [  9.99946713e-01   5.32311460e-05]\n",
        " [  9.93920803e-01   6.07925653e-03]\n",
        " [  4.04426875e-03   9.95955706e-01]\n",
        " [  1.54226437e-01   8.45773578e-01]\n",
        " [  1.17058605e-02   9.88294125e-01]\n",
        " [  3.98640364e-01   6.01359606e-01]\n",
        " [  9.92058098e-01   7.94187002e-03]\n",
        " [  8.03468049e-01   1.96531996e-01]\n",
        " [  9.30136502e-01   6.98634610e-02]\n",
        " [  9.91775274e-01   8.22467823e-03]\n",
        " [  5.76058209e-01   4.23941821e-01]\n",
        " [  3.97822559e-01   6.02177441e-01]\n",
        " [  1.27149984e-01   8.72850001e-01]\n",
        " [  9.96337295e-01   3.66273429e-03]\n",
        " [  7.74260879e-01   2.25739121e-01]\n",
        " [  6.13334924e-02   9.38666463e-01]\n",
        " [  5.42041600e-01   4.57958341e-01]\n",
        " [  7.37978041e-01   2.62021989e-01]\n",
        " [  8.68540406e-01   1.31459638e-01]\n",
        " [  4.01126314e-03   9.95988786e-01]\n",
        " [  2.66959611e-02   9.73304093e-01]\n",
        " [  6.38824761e-01   3.61175239e-01]\n",
        " [  8.66680592e-02   9.13331985e-01]\n",
        " [  9.44550931e-01   5.54490052e-02]\n",
        " [  8.11570704e-01   1.88429326e-01]\n",
        " [  2.32765597e-04   9.99767244e-01]\n",
        " [  4.15916532e-01   5.84083498e-01]\n",
        " [  6.94890499e-01   3.05109560e-01]\n",
        " [  6.52258217e-01   3.47741842e-01]\n",
        " [  2.54300088e-02   9.74569976e-01]\n",
        " [  4.81511444e-01   5.18488526e-01]\n",
        " [  7.12173998e-01   2.87825972e-01]\n",
        " [  3.65806848e-01   6.34193122e-01]\n",
        " [  9.94257033e-01   5.74301323e-03]\n",
        " [  7.66042247e-02   9.23395753e-01]\n",
        " [  2.04615325e-01   7.95384705e-01]\n",
        " [  9.99049604e-01   9.50383605e-04]\n",
        " [  9.93026614e-01   6.97346404e-03]\n",
        " [  9.98483717e-01   1.51627138e-03]\n",
        " [  7.37200971e-05   9.99926329e-01]\n",
        " [  2.94940919e-02   9.70505953e-01]\n",
        " [  1.52478456e-01   8.47521544e-01]\n",
        " [  5.39235100e-02   9.46076512e-01]\n",
        " [  3.96220446e-01   6.03779554e-01]\n",
        " [  9.79800940e-01   2.01990698e-02]\n",
        " [  9.96396363e-01   3.60361836e-03]\n",
        " [  6.87053919e-01   3.12946141e-01]\n",
        " [  9.20418859e-01   7.95811340e-02]\n",
        " [  9.83108580e-01   1.68914348e-02]\n",
        " [  1.83841035e-01   8.16158950e-01]\n",
        " [  4.04508710e-02   9.59549129e-01]\n",
        " [  8.51119995e-01   1.48880035e-01]\n",
        " [  5.80926687e-02   9.41907346e-01]\n",
        " [  8.77119362e-01   1.22880645e-01]\n",
        " [  1.16720699e-01   8.83279324e-01]\n",
        " [  9.91873801e-01   8.12615361e-03]\n",
        " [  8.47474217e-01   1.52525842e-01]\n",
        " [  9.79646802e-01   2.03531850e-02]\n",
        " [  2.08275877e-02   9.79172409e-01]\n",
        " [  9.36496675e-01   6.35033548e-02]\n",
        " [  9.75368619e-01   2.46313643e-02]\n",
        " [  4.12390918e-01   5.87609112e-01]\n",
        " [  9.37146604e-01   6.28533885e-02]\n",
        " [  8.73489261e-01   1.26510814e-01]\n",
        " [  1.87720463e-01   8.12279522e-01]\n",
        " [  4.85585093e-01   5.14414907e-01]\n",
        " [  9.18020725e-01   8.19793269e-02]\n",
        " [  9.45945442e-01   5.40545993e-02]\n",
        " [  2.83118695e-01   7.16881275e-01]\n",
        " [  7.73594656e-04   9.99226451e-01]\n",
        " [  9.96008515e-01   3.99148930e-03]\n",
        " [  9.99875188e-01   1.24824175e-04]\n",
        " [  4.87151086e-01   5.12848914e-01]\n",
        " [  9.82361734e-01   1.76382083e-02]\n",
        " [  9.85967100e-01   1.40329022e-02]\n",
        " [  9.94869113e-01   5.13091171e-03]\n",
        " [  8.59451354e-01   1.40548646e-01]\n",
        " [  9.16595817e-01   8.34041238e-02]\n",
        " [  7.39973634e-02   9.26002622e-01]\n",
        " [  2.91522264e-01   7.08477736e-01]\n",
        " [  6.88111782e-01   3.11888218e-01]\n",
        " [  9.98286664e-01   1.71335496e-03]\n",
        " [  9.06869471e-01   9.31305140e-02]\n",
        " [  1.31720930e-01   8.68279040e-01]\n",
        " [  9.81946051e-01   1.80539843e-02]\n",
        " [  5.98829746e-01   4.01170224e-01]\n",
        " [  1.02771588e-01   8.97228360e-01]\n",
        " [  5.83537340e-01   4.16462630e-01]\n",
        " [  5.61436474e-01   4.38563496e-01]\n",
        " [  5.66539288e-01   4.33460742e-01]\n",
        " [  3.18530589e-01   6.81469440e-01]\n",
        " [  9.64003026e-01   3.59969698e-02]\n",
        " [  7.55201578e-01   2.44798392e-01]\n",
        " [  5.49107373e-01   4.50892657e-01]\n",
        " [  7.44124651e-01   2.55875319e-01]\n",
        " [  6.12588882e-01   3.87411118e-01]\n",
        " [  9.99517560e-01   4.82453383e-04]\n",
        " [  3.25812250e-01   6.74187720e-01]\n",
        " [  9.86481547e-01   1.35184433e-02]\n",
        " [  8.78140569e-01   1.21859446e-01]\n",
        " [  9.97020423e-01   2.97955913e-03]\n",
        " [  9.36604023e-01   6.33959994e-02]\n",
        " [  9.69995677e-01   3.00042983e-02]\n",
        " [  5.60327200e-04   9.99439657e-01]\n",
        " [  8.17399174e-02   9.18260098e-01]\n",
        " [  2.92069972e-01   7.07930028e-01]\n",
        " [  7.81007782e-02   9.21899199e-01]\n",
        " [  1.71347857e-02   9.82865214e-01]\n",
        " [  4.11255583e-02   9.58874464e-01]\n",
        " [  9.43339527e-01   5.66604808e-02]\n",
        " [  7.72814214e-01   2.27185786e-01]\n",
        " [  1.00671962e-01   8.99327993e-01]\n",
        " [  2.22465694e-01   7.77534306e-01]\n",
        " [  1.03154182e-01   8.96845818e-01]\n",
        " [  6.83412373e-01   3.16587657e-01]\n",
        " [  9.96705830e-01   3.29416897e-03]\n",
        " [  7.57828951e-02   9.24217045e-01]\n",
        " [  9.42186394e-04   9.99057829e-01]\n",
        " [  8.33608627e-01   1.66391343e-01]\n",
        " [  9.68636930e-01   3.13630104e-02]\n",
        " [  9.96732473e-01   3.26755643e-03]\n",
        " [  7.66157091e-01   2.33842894e-01]\n",
        " [  5.31436652e-02   9.46856320e-01]\n",
        " [  1.47105023e-01   8.52895021e-01]\n",
        " [  5.68220377e-01   4.31779593e-01]\n",
        " [  2.45742366e-01   7.54257619e-01]\n",
        " [  8.58683765e-01   1.41316220e-01]\n",
        " [  4.16360572e-02   9.58363891e-01]\n",
        " [  3.20580415e-02   9.67941940e-01]\n",
        " [  2.04760376e-02   9.79523957e-01]\n",
        " [  9.79589164e-01   2.04108078e-02]\n",
        " [  9.09050703e-01   9.09492895e-02]\n",
        " [  1.21164925e-01   8.78835022e-01]\n",
        " [  9.23627317e-01   7.63726234e-02]\n",
        " [  1.10427216e-02   9.88957345e-01]\n",
        " [  4.09931302e-01   5.90068698e-01]\n",
        " [  2.94164894e-03   9.97058392e-01]\n",
        " [  1.86400849e-03   9.98135924e-01]\n",
        " [  9.76236284e-01   2.37636771e-02]\n",
        " [  7.98418880e-01   2.01581135e-01]\n",
        " [  4.15429264e-01   5.84570706e-01]\n",
        " [  7.39078701e-01   2.60921329e-01]\n",
        " [  1.39385745e-01   8.60614181e-01]\n",
        " [  4.15463567e-01   5.84536493e-01]\n",
        " [  1.55039532e-02   9.84495997e-01]\n",
        " [  3.17853332e-01   6.82146668e-01]\n",
        " [  8.83600116e-03   9.91163969e-01]\n",
        " [  2.54540751e-03   9.97454584e-01]\n",
        " [  5.94873309e-01   4.05126661e-01]\n",
        " [  6.43185675e-01   3.56814265e-01]\n",
        " [  4.75744605e-01   5.24255455e-01]\n",
        " [  6.88733876e-01   3.11266094e-01]\n",
        " [  6.13200366e-01   3.86799634e-01]\n",
        " [  7.11829662e-01   2.88170338e-01]\n",
        " [  2.91379243e-01   7.08620727e-01]\n",
        " [  8.75674963e-01   1.24325052e-01]\n",
        " [  9.15173650e-01   8.48263055e-02]\n",
        " [  3.42742115e-01   6.57257915e-01]\n",
        " [  1.81451455e-01   8.18548501e-01]\n",
        " [  9.73355711e-01   2.66442932e-02]\n",
        " [  2.60842174e-01   7.39157796e-01]\n",
        " [  2.63648301e-01   7.36351728e-01]\n",
        " [  4.31027591e-01   5.68972409e-01]\n",
        " [  4.31906402e-01   5.68093657e-01]\n",
        " [  9.46777761e-01   5.32222539e-02]\n",
        " [  9.83738899e-01   1.62611529e-02]\n",
        " [  7.50691235e-01   2.49308810e-01]\n",
        " [  2.56961763e-01   7.43038297e-01]\n",
        " [  9.94883478e-01   5.11654653e-03]\n",
        " [  6.63798973e-02   9.33620036e-01]\n",
        " [  9.25752819e-01   7.42471591e-02]\n",
        " [  9.38099205e-01   6.19008206e-02]\n",
        " [  4.17697579e-01   5.82302451e-01]\n",
        " [  9.82440785e-02   9.01755929e-01]\n",
        " [  7.97581971e-01   2.02418000e-01]\n",
        " [  1.89564049e-01   8.10435951e-01]\n",
        " [  9.95921850e-01   4.07813257e-03]\n",
        " [  6.12570718e-02   9.38742936e-01]\n",
        " [  1.12123252e-03   9.98878777e-01]\n",
        " [  5.56221902e-01   4.43778098e-01]\n",
        " [  7.69511983e-02   9.23048735e-01]\n",
        " [  3.99013638e-01   6.00986302e-01]\n",
        " [  5.48126638e-01   4.51873332e-01]\n",
        " [  8.45533311e-01   1.54466718e-01]\n",
        " [  2.97574639e-01   7.02425361e-01]\n",
        " [  1.20321419e-02   9.87967849e-01]\n",
        " [  3.20471525e-02   9.67952788e-01]\n",
        " [  3.54310721e-01   6.45689309e-01]\n",
        " [  9.67765227e-02   9.03223515e-01]\n",
        " [  9.93283749e-01   6.71626721e-03]\n",
        " [  4.95596111e-01   5.04403889e-01]\n",
        " [  6.39037311e-01   3.60962749e-01]\n",
        " [  9.96419668e-01   3.58035858e-03]\n",
        " [  9.94950771e-01   5.04926918e-03]\n",
        " [  9.46148217e-01   5.38517870e-02]\n",
        " [  5.95191419e-01   4.04808521e-01]\n",
        " [  6.93714261e-01   3.06285769e-01]\n",
        " [  1.18055046e-01   8.81944954e-01]\n",
        " [  5.49739063e-01   4.50260967e-01]\n",
        " [  1.25581756e-01   8.74418259e-01]\n",
        " [  5.32807589e-01   4.67192411e-01]\n",
        " [  5.38179755e-01   4.61820275e-01]\n",
        " [  7.86055088e-01   2.13944867e-01]\n",
        " [  5.50829232e-01   4.49170768e-01]\n",
        " [  7.21464336e-01   2.78535634e-01]\n",
        " [  9.90220666e-01   9.77927539e-03]\n",
        " [  9.95844424e-01   4.15563211e-03]\n",
        " [  6.31140828e-01   3.68859112e-01]\n",
        " [  5.76345503e-01   4.23654497e-01]\n",
        " [  9.98756528e-01   1.24351727e-03]\n",
        " [  9.28356886e-01   7.16431141e-02]\n",
        " [  5.27518950e-02   9.47248161e-01]\n",
        " [  3.51999104e-01   6.48000956e-01]\n",
        " [  6.52195930e-01   3.47804070e-01]\n",
        " [  1.09457336e-02   9.89054203e-01]\n",
        " [  2.14439631e-02   9.78556037e-01]\n",
        " [  7.00975358e-01   2.99024612e-01]\n",
        " [  9.03669178e-01   9.63307992e-02]\n",
        " [  6.60598576e-01   3.39401424e-01]\n",
        " [  2.15119999e-02   9.78488028e-01]\n",
        " [  4.31924202e-02   9.56807613e-01]\n",
        " [  8.97382140e-01   1.02617823e-01]\n",
        " [  5.15107214e-01   4.84892786e-01]\n",
        " [  6.36461079e-01   3.63538891e-01]\n",
        " [  3.44191551e-01   6.55808449e-01]\n",
        " [  2.76574939e-01   7.23425090e-01]\n",
        " [  8.07508409e-01   1.92491621e-01]\n",
        " [  5.20937741e-01   4.79062289e-01]\n",
        " [  2.52037406e-01   7.47962534e-01]\n",
        " [  4.28473502e-01   5.71526468e-01]\n",
        " [  9.99499440e-01   5.00558177e-04]\n",
        " [  4.52526033e-01   5.47473967e-01]\n",
        " [  9.99770463e-01   2.29497717e-04]\n",
        " [  9.11137104e-01   8.88629109e-02]\n",
        " [  8.89049113e-01   1.10950902e-01]\n",
        " [  6.85449898e-01   3.14550102e-01]\n",
        " [  1.41160473e-01   8.58839571e-01]\n",
        " [  4.98741642e-02   9.50125873e-01]\n",
        " [  1.63214669e-01   8.36785316e-01]\n",
        " [  9.98223841e-01   1.77613611e-03]\n",
        " [  7.42043674e-01   2.57956326e-01]\n",
        " [  9.90203857e-01   9.79613978e-03]\n",
        " [  6.84075236e-01   3.15924734e-01]\n",
        " [  3.24542681e-03   9.96754587e-01]\n",
        " [  5.62258184e-01   4.37741816e-01]\n",
        " [  4.10032347e-02   9.58996713e-01]\n",
        " [  8.35893989e-01   1.64106056e-01]\n",
        " [  3.63827556e-01   6.36172414e-01]\n",
        " [  3.04782242e-01   6.95217729e-01]\n",
        " [  8.97096455e-01   1.02903530e-01]\n",
        " [  5.60951591e-01   4.39048380e-01]\n",
        " [  4.67466742e-01   5.32533228e-01]\n",
        " [  9.63994503e-01   3.60054485e-02]\n",
        " [  6.16030348e-03   9.93839681e-01]\n",
        " [  5.78882873e-01   4.21117127e-01]\n",
        " [  1.82012133e-02   9.81798828e-01]\n",
        " [  9.39303219e-01   6.06967397e-02]\n",
        " [  8.52339789e-02   9.14765954e-01]\n",
        " [  5.22120833e-01   4.77879196e-01]\n",
        " [  2.30372623e-02   9.76962686e-01]\n",
        " [  8.66904557e-01   1.33095443e-01]\n",
        " [  9.83067334e-01   1.69327166e-02]\n",
        " [  9.98225987e-01   1.77399267e-03]\n",
        " [  1.87774166e-01   8.12225819e-01]\n",
        " [  3.60266298e-01   6.39733732e-01]\n",
        " [  1.11725092e-01   8.88274908e-01]\n",
        " [  8.95893574e-01   1.04106404e-01]\n",
        " [  8.07875022e-03   9.91921306e-01]\n",
        " [  9.98048544e-01   1.95149530e-03]\n",
        " [  9.04625714e-01   9.53742936e-02]\n",
        " [  9.99794185e-01   2.05799472e-04]\n",
        " [  2.60634273e-01   7.39365757e-01]\n",
        " [  7.61131823e-01   2.38868207e-01]\n",
        " [  8.06702316e-01   1.93297669e-01]\n",
        " [  4.58879948e-01   5.41119993e-01]\n",
        " [  5.34844548e-02   9.46515620e-01]\n",
        " [  7.67832458e-01   2.32167572e-01]\n",
        " [  4.49179560e-02   9.55082059e-01]\n",
        " [  1.64440200e-02   9.83555973e-01]\n",
        " [  3.00339937e-01   6.99660063e-01]\n",
        " [  9.99273717e-01   7.26311351e-04]\n",
        " [  9.81582403e-01   1.84175652e-02]\n",
        " [  3.27968664e-05   9.99967217e-01]\n",
        " [  1.72004953e-01   8.27995002e-01]\n",
        " [  6.21234253e-02   9.37876582e-01]\n",
        " [  8.17245841e-02   9.18275356e-01]\n",
        " [  9.70522463e-01   2.94775199e-02]\n",
        " [  6.34489775e-01   3.65510195e-01]\n",
        " [  9.75431800e-01   2.45681964e-02]\n",
        " [  1.71150178e-01   8.28849792e-01]\n",
        " [  3.81643474e-01   6.18356466e-01]\n",
        " [  9.95261550e-01   4.73840162e-03]\n",
        " [  6.94431365e-02   9.30556834e-01]\n",
        " [  6.05146110e-04   9.99394894e-01]\n",
        " [  2.74686784e-01   7.25313246e-01]\n",
        " [  1.90881435e-02   9.80911851e-01]\n",
        " [  3.29395741e-01   6.70604289e-01]\n",
        " [  1.49643952e-02   9.85035658e-01]\n",
        " [  7.34670699e-01   2.65329331e-01]\n",
        " [  4.48573790e-02   9.55142617e-01]\n",
        " [  3.83654326e-01   6.16345704e-01]\n",
        " [  9.99115527e-01   8.84498819e-04]\n",
        " [  7.23508656e-01   2.76491404e-01]\n",
        " [  1.55119121e-01   8.44880939e-01]\n",
        " [  9.65666950e-01   3.43330763e-02]\n",
        " [  8.33946705e-01   1.66053340e-01]\n",
        " [  3.88496876e-01   6.11503124e-01]\n",
        " [  7.30186999e-02   9.26981330e-01]\n",
        " [  1.71153873e-01   8.28846097e-01]\n",
        " [  5.95368385e-01   4.04631674e-01]\n",
        " [  2.09122404e-01   7.90877640e-01]\n",
        " [  3.09971988e-01   6.90028012e-01]\n",
        " [  5.65531366e-02   9.43446875e-01]\n",
        " [  7.37120092e-01   2.62879878e-01]\n",
        " [  5.36515191e-02   9.46348488e-01]\n",
        " [  6.20029390e-01   3.79970580e-01]\n",
        " [  2.42118850e-01   7.57881105e-01]\n",
        " [  9.75638628e-01   2.43614409e-02]\n",
        " [  1.82033554e-01   8.17966402e-01]\n",
        " [  2.57858545e-01   7.42141485e-01]\n",
        " [  1.29313022e-02   9.87068653e-01]\n",
        " [  9.84229505e-01   1.57705229e-02]\n",
        " [  4.45655376e-01   5.54344654e-01]\n",
        " [  5.16337335e-01   4.83662665e-01]\n",
        " [  9.91213262e-01   8.78675934e-03]\n",
        " [  9.65498805e-01   3.45011950e-02]\n",
        " [  1.66009963e-01   8.33990037e-01]\n",
        " [  5.93501449e-01   4.06498551e-01]\n",
        " [  7.73404121e-01   2.26595894e-01]\n",
        " [  3.06770563e-01   6.93229437e-01]\n",
        " [  3.31573606e-01   6.68426394e-01]\n",
        " [  5.02411306e-01   4.97588724e-01]\n",
        " [  4.72660512e-01   5.27339458e-01]\n",
        " [  8.59567165e-01   1.40432790e-01]\n",
        " [  2.35050395e-02   9.76494908e-01]\n",
        " [  9.85254765e-01   1.47451675e-02]\n",
        " [  9.97831404e-01   2.16862559e-03]\n",
        " [  9.06879008e-01   9.31209996e-02]\n",
        " [  9.47386384e-01   5.26135899e-02]\n",
        " [  9.88451123e-01   1.15489028e-02]\n",
        " [  1.25233829e-01   8.74766171e-01]\n",
        " [  8.63257408e-01   1.36742562e-01]\n",
        " [  1.67011157e-01   8.32988799e-01]\n",
        " [  1.39355496e-01   8.60644460e-01]\n",
        " [  8.62321794e-01   1.37678236e-01]\n",
        " [  3.31391618e-02   9.66860771e-01]\n",
        " [  9.62507188e-01   3.74927931e-02]\n",
        " [  8.73565614e-01   1.26434311e-01]\n",
        " [  6.10695779e-02   9.38930392e-01]\n",
        " [  9.74191010e-01   2.58089378e-02]\n",
        " [  9.83964920e-01   1.60350595e-02]\n",
        " [  5.00750363e-01   4.99249607e-01]\n",
        " [  6.55387389e-03   9.93446052e-01]\n",
        " [  5.77621646e-02   9.42237854e-01]\n",
        " [  8.98633897e-01   1.01366147e-01]\n",
        " [  8.80852938e-01   1.19147062e-01]\n",
        " [  9.92921889e-01   7.07809348e-03]\n",
        " [  6.22755699e-02   9.37724411e-01]\n",
        " [  2.22392246e-01   7.77607799e-01]\n",
        " [  8.27397287e-01   1.72602713e-01]\n",
        " [  2.02182159e-02   9.79781747e-01]\n",
        " [  6.87502384e-01   3.12497586e-01]\n",
        " [  4.84786518e-02   9.51521277e-01]\n",
        " [  9.95991528e-01   4.00843844e-03]\n",
        " [  9.97971833e-01   2.02811183e-03]\n",
        " [  3.81767899e-01   6.18232071e-01]\n",
        " [  5.27005732e-01   4.72994298e-01]\n",
        " [  9.85094786e-01   1.49052301e-02]\n",
        " [  1.40710408e-02   9.85928953e-01]\n",
        " [  7.07382858e-02   9.29261684e-01]\n",
        " [  8.16858470e-01   1.83141559e-01]\n",
        " [  9.61545885e-01   3.84540930e-02]\n",
        " [  9.99552190e-01   4.47733677e-04]\n",
        " [  9.89547610e-01   1.04524186e-02]\n",
        " [  4.32581753e-02   9.56741810e-01]\n",
        " [  9.99949098e-01   5.08415142e-05]\n",
        " [  1.75414875e-01   8.24585080e-01]\n",
        " [  4.91371691e-01   5.08628368e-01]\n",
        " [  4.38595206e-01   5.61404765e-01]\n",
        " [  9.70648825e-02   9.02935147e-01]\n",
        " [  8.81486475e-01   1.18513495e-01]\n",
        " [  4.68043298e-01   5.31956673e-01]\n",
        " [  1.32600114e-01   8.67399931e-01]\n",
        " [  3.56782436e-01   6.43217564e-01]\n",
        " [  7.54475176e-01   2.45524794e-01]\n",
        " [  9.49012935e-01   5.09871207e-02]\n",
        " [  5.30862629e-01   4.69137371e-01]\n",
        " [  1.56489236e-03   9.98435080e-01]\n",
        " [  1.81387141e-02   9.81861234e-01]\n",
        " [  1.08789004e-01   8.91210973e-01]\n",
        " [  7.85792291e-01   2.14207724e-01]\n",
        " [  5.53348102e-02   9.44665194e-01]\n",
        " [  8.90527964e-01   1.09472036e-01]\n",
        " [  8.83871436e-01   1.16128564e-01]\n",
        " [  2.51640230e-01   7.48359740e-01]\n",
        " [  1.16884887e-01   8.83115113e-01]\n",
        " [  9.66910183e-01   3.30898687e-02]\n",
        " [  7.47215807e-01   2.52784163e-01]\n",
        " [  9.81447816e-01   1.85522586e-02]\n",
        " [  9.92995322e-01   7.00469408e-03]\n",
        " [  9.97906327e-01   2.09371699e-03]\n",
        " [  8.36660862e-01   1.63339123e-01]\n",
        " [  9.51705575e-01   4.82944325e-02]\n",
        " [  7.30690956e-02   9.26930904e-01]\n",
        " [  7.25391686e-01   2.74608254e-01]\n",
        " [  6.60784185e-01   3.39215845e-01]\n",
        " [  8.90968919e-01   1.09031007e-01]\n",
        " [  2.52870262e-01   7.47129798e-01]\n",
        " [  9.99820650e-01   1.79345749e-04]\n",
        " [  5.26657581e-01   4.73342478e-01]\n",
        " [  5.99333458e-02   9.40066695e-01]\n",
        " [  7.00157285e-01   2.99842745e-01]\n",
        " [  3.48774523e-01   6.51225448e-01]\n",
        " [  6.14063501e-01   3.85936499e-01]\n",
        " [  4.36554313e-01   5.63445687e-01]\n",
        " [  8.16295147e-01   1.83704853e-01]\n",
        " [  6.78406842e-03   9.93215859e-01]\n",
        " [  9.81443286e-01   1.85566507e-02]\n",
        " [  9.16834831e-01   8.31651166e-02]\n",
        " [  8.66668999e-01   1.33331001e-01]\n",
        " [  7.85671547e-02   9.21432793e-01]\n",
        " [  2.82782525e-01   7.17217505e-01]\n",
        " [  9.16892886e-01   8.31071362e-02]\n",
        " [  8.87784287e-02   9.11221564e-01]\n",
        " [  6.10224009e-01   3.89776021e-01]\n",
        " [  9.03411150e-01   9.65888277e-02]\n",
        " [  9.56125021e-01   4.38749120e-02]\n",
        " [  2.55582482e-01   7.44417489e-01]\n",
        " [  9.21374202e-01   7.86257982e-02]\n",
        " [  7.48193085e-01   2.51806915e-01]\n",
        " [  3.45543295e-01   6.54456675e-01]\n",
        " [  2.51662523e-01   7.48337507e-01]\n",
        " [  6.39688790e-01   3.60311240e-01]\n",
        " [  9.46636081e-01   5.33639044e-02]\n",
        " [  5.28225005e-01   4.71774966e-01]\n",
        " [  1.86965764e-01   8.13034296e-01]\n",
        " [  3.36218268e-01   6.63781703e-01]\n",
        " [  9.97478306e-01   2.52170232e-03]\n",
        " [  3.80046107e-02   9.61995423e-01]\n",
        " [  8.14889431e-01   1.85110584e-01]\n",
        " [  4.00110126e-01   5.99889874e-01]\n",
        " [  5.37814140e-01   4.62185830e-01]\n",
        " [  9.96842623e-01   3.15743405e-03]\n",
        " [  4.40488398e-01   5.59511662e-01]\n",
        " [  2.08427101e-01   7.91572869e-01]\n",
        " [  4.13779199e-01   5.86220741e-01]\n",
        " [  7.61676133e-01   2.38323897e-01]\n",
        " [  5.03882766e-01   4.96117264e-01]\n",
        " [  2.39267677e-01   7.60732353e-01]\n",
        " [  6.75452828e-01   3.24547172e-01]\n",
        " [  1.81006953e-01   8.18993032e-01]\n",
        " [  7.65647471e-01   2.34352514e-01]\n",
        " [  1.35588750e-01   8.64411235e-01]\n",
        " [  2.27345955e-02   9.77265418e-01]\n",
        " [  6.65291678e-03   9.93347168e-01]]"
       ]
      },
      {
       "output_type": "stream",
       "stream": "stdout",
       "text": [
        "\n",
        "[[0 1]\n",
        " [1 0]\n",
        " [0 1]\n",
        " [1 0]\n",
        " [0 1]\n",
        " [1 0]\n",
        " [1 0]\n",
        " [0 1]\n",
        " [0 1]\n",
        " [1 0]\n",
        " [0 1]\n",
        " [0 1]\n",
        " [1 0]\n",
        " [1 0]\n",
        " [0 1]\n",
        " [1 0]\n",
        " [1 0]\n",
        " [1 0]\n",
        " [1 0]\n",
        " [1 0]\n",
        " [1 0]\n",
        " [1 0]\n",
        " [1 0]\n",
        " [0 1]\n",
        " [0 1]\n",
        " [0 1]\n",
        " [0 1]\n",
        " [1 0]\n",
        " [0 1]\n",
        " [1 0]\n",
        " [1 0]\n",
        " [1 0]\n",
        " [1 0]\n",
        " [1 0]\n",
        " [1 0]\n",
        " [1 0]\n",
        " [0 1]\n",
        " [1 0]\n",
        " [1 0]\n",
        " [1 0]\n",
        " [0 1]\n",
        " [0 1]\n",
        " [1 0]\n",
        " [0 1]\n",
        " [1 0]\n",
        " [1 0]\n",
        " [0 1]\n",
        " [0 1]\n",
        " [1 0]\n",
        " [1 0]\n",
        " [0 1]\n",
        " [0 1]\n",
        " [1 0]\n",
        " [0 1]\n",
        " [1 0]\n",
        " [0 1]\n",
        " [0 1]\n",
        " [1 0]\n",
        " [1 0]\n",
        " [1 0]\n",
        " [1 0]\n",
        " [0 1]\n",
        " [0 1]\n",
        " [0 1]\n",
        " [1 0]\n",
        " [1 0]\n",
        " [1 0]\n",
        " [1 0]\n",
        " [1 0]\n",
        " [1 0]\n",
        " [0 1]\n",
        " [1 0]\n",
        " [1 0]\n",
        " [0 1]\n",
        " [0 1]\n",
        " [0 1]\n",
        " [1 0]\n",
        " [1 0]\n",
        " [1 0]\n",
        " [0 1]\n",
        " [0 1]\n",
        " [1 0]\n",
        " [1 0]\n",
        " [1 0]\n",
        " [1 0]\n",
        " [0 1]\n",
        " [0 1]\n",
        " [0 1]\n",
        " [1 0]\n",
        " [1 0]\n",
        " [0 1]\n",
        " [0 1]\n",
        " [0 1]\n",
        " [0 1]\n",
        " [1 0]\n",
        " [1 0]\n",
        " [1 0]\n",
        " [1 0]\n",
        " [1 0]\n",
        " [1 0]\n",
        " [0 1]\n",
        " [0 1]\n",
        " [1 0]\n",
        " [1 0]\n",
        " [0 1]\n",
        " [1 0]\n",
        " [1 0]\n",
        " [0 1]\n",
        " [1 0]\n",
        " [0 1]\n",
        " [1 0]\n",
        " [0 1]\n",
        " [1 0]\n",
        " [0 1]\n",
        " [1 0]\n",
        " [0 1]\n",
        " [1 0]\n",
        " [1 0]\n",
        " [0 1]\n",
        " [1 0]\n",
        " [1 0]\n",
        " [1 0]\n",
        " [1 0]\n",
        " [1 0]\n",
        " [0 1]\n",
        " [0 1]\n",
        " [1 0]\n",
        " [0 1]\n",
        " [0 1]\n",
        " [1 0]\n",
        " [1 0]\n",
        " [1 0]\n",
        " [0 1]\n",
        " [0 1]\n",
        " [0 1]\n",
        " [1 0]\n",
        " [1 0]\n",
        " [0 1]\n",
        " [0 1]\n",
        " [1 0]\n",
        " [1 0]\n",
        " [0 1]\n",
        " [1 0]\n",
        " [1 0]\n",
        " [0 1]\n",
        " [1 0]\n",
        " [0 1]\n",
        " [1 0]\n",
        " [0 1]\n",
        " [0 1]\n",
        " [0 1]\n",
        " [1 0]\n",
        " [1 0]\n",
        " [0 1]\n",
        " [1 0]\n",
        " [0 1]\n",
        " [0 1]\n",
        " [0 1]\n",
        " [0 1]\n",
        " [1 0]\n",
        " [1 0]\n",
        " [0 1]\n",
        " [1 0]\n",
        " [0 1]\n",
        " [1 0]\n",
        " [0 1]\n",
        " [1 0]\n",
        " [0 1]\n",
        " [0 1]\n",
        " [1 0]\n",
        " [1 0]\n",
        " [0 1]\n",
        " [0 1]\n",
        " [0 1]\n",
        " [1 0]\n",
        " [1 0]\n",
        " [1 0]\n",
        " [1 0]\n",
        " [0 1]\n",
        " [1 0]\n",
        " [1 0]\n",
        " [0 1]\n",
        " [1 0]\n",
        " [1 0]\n",
        " [0 1]\n",
        " [1 0]\n",
        " [1 0]\n",
        " [1 0]\n",
        " [0 1]\n",
        " [1 0]\n",
        " [0 1]\n",
        " [1 0]\n",
        " [1 0]\n",
        " [0 1]\n",
        " [0 1]\n",
        " [1 0]\n",
        " [0 1]\n",
        " [1 0]\n",
        " [0 1]\n",
        " [0 1]\n",
        " [1 0]\n",
        " [0 1]\n",
        " [0 1]\n",
        " [1 0]\n",
        " [1 0]\n",
        " [0 1]\n",
        " [0 1]\n",
        " [0 1]\n",
        " [1 0]\n",
        " [0 1]\n",
        " [1 0]\n",
        " [0 1]\n",
        " [1 0]\n",
        " [1 0]\n",
        " [1 0]\n",
        " [1 0]\n",
        " [1 0]\n",
        " [0 1]\n",
        " [0 1]\n",
        " [1 0]\n",
        " [0 1]\n",
        " [0 1]\n",
        " [1 0]\n",
        " [1 0]\n",
        " [1 0]\n",
        " [0 1]\n",
        " [1 0]\n",
        " [1 0]\n",
        " [0 1]\n",
        " [0 1]\n",
        " [1 0]\n",
        " [1 0]\n",
        " [0 1]\n",
        " [0 1]\n",
        " [1 0]\n",
        " [0 1]\n",
        " [0 1]\n",
        " [1 0]\n",
        " [1 0]\n",
        " [1 0]\n",
        " [1 0]\n",
        " [0 1]\n",
        " [1 0]\n",
        " [0 1]\n",
        " [1 0]\n",
        " [0 1]\n",
        " [0 1]\n",
        " [1 0]\n",
        " [1 0]\n",
        " [0 1]\n",
        " [0 1]\n",
        " [1 0]\n",
        " [1 0]\n",
        " [1 0]\n",
        " [1 0]\n",
        " [1 0]\n",
        " [0 1]\n",
        " [0 1]\n",
        " [0 1]\n",
        " [0 1]\n",
        " [1 0]\n",
        " [1 0]\n",
        " [1 0]\n",
        " [1 0]\n",
        " [0 1]\n",
        " [0 1]\n",
        " [0 1]\n",
        " [0 1]\n",
        " [0 1]\n",
        " [0 1]\n",
        " [0 1]\n",
        " [0 1]\n",
        " [1 0]\n",
        " [1 0]\n",
        " [0 1]\n",
        " [1 0]\n",
        " [0 1]\n",
        " [1 0]\n",
        " [0 1]\n",
        " [0 1]\n",
        " [0 1]\n",
        " [1 0]\n",
        " [1 0]\n",
        " [1 0]\n",
        " [0 1]\n",
        " [0 1]\n",
        " [0 1]\n",
        " [1 0]\n",
        " [0 1]\n",
        " [1 0]\n",
        " [1 0]\n",
        " [1 0]\n",
        " [0 1]\n",
        " [0 1]\n",
        " [1 0]\n",
        " [0 1]\n",
        " [0 1]\n",
        " [1 0]\n",
        " [0 1]\n",
        " [0 1]\n",
        " [0 1]\n",
        " [1 0]\n",
        " [1 0]\n",
        " [0 1]\n",
        " [0 1]\n",
        " [0 1]\n",
        " [0 1]\n",
        " [1 0]\n",
        " [1 0]\n",
        " [1 0]\n",
        " [0 1]\n",
        " [1 0]\n",
        " [1 0]\n",
        " [0 1]\n",
        " [0 1]\n",
        " [0 1]\n",
        " [1 0]\n",
        " [0 1]\n",
        " [0 1]\n",
        " [1 0]\n",
        " [0 1]\n",
        " [1 0]\n",
        " [1 0]\n",
        " [1 0]\n",
        " [0 1]\n",
        " [1 0]\n",
        " [1 0]\n",
        " [1 0]\n",
        " [0 1]\n",
        " [1 0]\n",
        " [1 0]\n",
        " [0 1]\n",
        " [0 1]\n",
        " [0 1]\n",
        " [0 1]\n",
        " [1 0]\n",
        " [0 1]\n",
        " [1 0]\n",
        " [1 0]\n",
        " [0 1]\n",
        " [0 1]\n",
        " [0 1]\n",
        " [1 0]\n",
        " [1 0]\n",
        " [1 0]\n",
        " [1 0]\n",
        " [1 0]\n",
        " [1 0]\n",
        " [1 0]\n",
        " [1 0]\n",
        " [0 1]\n",
        " [0 1]\n",
        " [0 1]\n",
        " [0 1]\n",
        " [1 0]\n",
        " [0 1]\n",
        " [1 0]\n",
        " [1 0]\n",
        " [1 0]\n",
        " [0 1]\n",
        " [1 0]\n",
        " [0 1]\n",
        " [0 1]\n",
        " [0 1]\n",
        " [0 1]\n",
        " [1 0]\n",
        " [0 1]\n",
        " [1 0]\n",
        " [1 0]\n",
        " [0 1]\n",
        " [1 0]\n",
        " [0 1]\n",
        " [0 1]\n",
        " [0 1]\n",
        " [0 1]\n",
        " [1 0]\n",
        " [1 0]\n",
        " [1 0]\n",
        " [0 1]\n",
        " [0 1]\n",
        " [1 0]\n",
        " [0 1]\n",
        " [1 0]\n",
        " [0 1]\n",
        " [1 0]\n",
        " [1 0]\n",
        " [0 1]\n",
        " [1 0]\n",
        " [1 0]\n",
        " [0 1]\n",
        " [0 1]\n",
        " [1 0]\n",
        " [1 0]\n",
        " [1 0]\n",
        " [0 1]\n",
        " [0 1]\n",
        " [1 0]\n",
        " [0 1]\n",
        " [0 1]\n",
        " [0 1]\n",
        " [0 1]\n",
        " [1 0]\n",
        " [0 1]\n",
        " [0 1]\n",
        " [1 0]\n",
        " [1 0]\n",
        " [1 0]\n",
        " [0 1]\n",
        " [0 1]\n",
        " [1 0]\n",
        " [0 1]\n",
        " [1 0]\n",
        " [0 1]\n",
        " [0 1]\n",
        " [1 0]\n",
        " [0 1]\n",
        " [0 1]\n",
        " [0 1]\n",
        " [0 1]\n",
        " [1 0]\n",
        " [1 0]\n",
        " [1 0]\n",
        " [1 0]\n",
        " [1 0]\n",
        " [0 1]\n",
        " [1 0]\n",
        " [1 0]\n",
        " [1 0]\n",
        " [1 0]\n",
        " [1 0]\n",
        " [0 1]\n",
        " [0 1]\n",
        " [1 0]\n",
        " [1 0]\n",
        " [1 0]\n",
        " [1 0]\n",
        " [1 0]\n",
        " [0 1]\n",
        " [1 0]\n",
        " [1 0]\n",
        " [1 0]\n",
        " [0 1]\n",
        " [0 1]\n",
        " [1 0]\n",
        " [0 1]\n",
        " [1 0]\n",
        " [1 0]\n",
        " [1 0]\n",
        " [1 0]\n",
        " [1 0]\n",
        " [1 0]\n",
        " [1 0]\n",
        " [0 1]\n",
        " [1 0]\n",
        " [1 0]\n",
        " [1 0]\n",
        " [0 1]\n",
        " [0 1]\n",
        " [1 0]\n",
        " [0 1]\n",
        " [1 0]\n",
        " [1 0]\n",
        " [0 1]\n",
        " [1 0]\n",
        " [0 1]\n",
        " [0 1]\n",
        " [1 0]\n",
        " [1 0]\n",
        " [1 0]\n",
        " [0 1]\n",
        " [1 0]\n",
        " [0 1]\n",
        " [1 0]\n",
        " [0 1]\n",
        " [0 1]\n",
        " [0 1]]\n"
       ]
      }
     ],
     "prompt_number": 7
    },
    {
     "cell_type": "code",
     "collapsed": false,
     "input": [],
     "language": "python",
     "metadata": {},
     "outputs": []
    }
   ],
   "metadata": {}
  }
 ]
}